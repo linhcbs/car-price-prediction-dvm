{
 "cells": [
  {
   "cell_type": "code",
   "execution_count": 2,
   "id": "691da4b9",
   "metadata": {},
   "outputs": [
    {
     "name": "stderr",
     "output_type": "stream",
     "text": [
      "d:\\code stuffs\\Python\\vietai-project-tmp\\car-price-prediction-dvm\\.venv\\Lib\\site-packages\\tqdm\\auto.py:21: TqdmWarning: IProgress not found. Please update jupyter and ipywidgets. See https://ipywidgets.readthedocs.io/en/stable/user_install.html\n",
      "  from .autonotebook import tqdm as notebook_tqdm\n"
     ]
    }
   ],
   "source": [
    "import pickle\n",
    "import gradio as gr\n",
    "from data_preprocessor  import DataPreprocessor\n",
    "import pandas as pd\n",
    "\n",
    "with open('../src/preprocessor.pkl', 'rb') as f:\n",
    "    preprocessor = pickle.load(f)\n",
    "\n",
    "with open('../src/model.pkl', 'rb') as f:\n",
    "    model = pickle.load(f)\n",
    "\n",
    "schema = preprocessor.schema"
   ]
  },
  {
   "cell_type": "code",
   "execution_count": 3,
   "id": "2b9c6cc5",
   "metadata": {},
   "outputs": [
    {
     "name": "stdout",
     "output_type": "stream",
     "text": [
      "* Running on local URL:  http://127.0.0.1:7860\n",
      "* To create a public link, set `share=True` in `launch()`.\n"
     ]
    },
    {
     "data": {
      "text/html": [
       "<div><iframe src=\"http://127.0.0.1:7860/\" width=\"100%\" height=\"500\" allow=\"autoplay; camera; microphone; clipboard-read; clipboard-write;\" frameborder=\"0\" allowfullscreen></iframe></div>"
      ],
      "text/plain": [
       "<IPython.core.display.HTML object>"
      ]
     },
     "metadata": {},
     "output_type": "display_data"
    },
    {
     "data": {
      "text/plain": []
     },
     "execution_count": 3,
     "metadata": {},
     "output_type": "execute_result"
    }
   ],
   "source": [
    "cat_choices = preprocessor.get_categorical_choices()\n",
    "\n",
    "inputs = []\n",
    "input_names = []\n",
    "\n",
    "for feat in schema.values:\n",
    "    featname = feat[0]\n",
    "    if feat[2] == 'none':\n",
    "        inputs.append(gr.Number(label=featname))\n",
    "    elif featname == 'genmodel':\n",
    "        inputs.append(gr.Dropdown([item for sublist in cat_choices['genmodel'].values() for item in sublist], label = featname))\n",
    "    else:\n",
    "        choices = cat_choices.get(featname, ['Other'])\n",
    "        inputs.append(gr.Dropdown(choices, label=featname))\n",
    "\n",
    "    input_names.append(featname)\n",
    "\n",
    "def predict_gradio(*args):\n",
    "    X = pd.DataFrame([args], columns=input_names)\n",
    "    X = preprocessor.perform_light_cleaning(X)\n",
    "    X = preprocessor.impute(X)\n",
    "    X = preprocessor.encode(X)  \n",
    "    X = X[preprocessor.get_encoded_cols()]  \n",
    "    X = preprocessor.scale(X)\n",
    "    y_pred = model.predict(X)[0]\n",
    "    \n",
    "    return float(y_pred)\n",
    "\n",
    "demo = gr.Interface(\n",
    "    fn=predict_gradio,\n",
    "    inputs=inputs,\n",
    "    outputs=gr.Number(label=\"Predicted Price\"),\n",
    "    title=\"Car Price Prediction\"\n",
    ")\n",
    "\n",
    "demo.launch()"
   ]
  }
 ],
 "metadata": {
  "kernelspec": {
   "display_name": ".venv",
   "language": "python",
   "name": "python3"
  },
  "language_info": {
   "codemirror_mode": {
    "name": "ipython",
    "version": 3
   },
   "file_extension": ".py",
   "mimetype": "text/x-python",
   "name": "python",
   "nbconvert_exporter": "python",
   "pygments_lexer": "ipython3",
   "version": "3.11.9"
  }
 },
 "nbformat": 4,
 "nbformat_minor": 5
}
